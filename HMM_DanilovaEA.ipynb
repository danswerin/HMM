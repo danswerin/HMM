{
 "cells": [
  {
   "cell_type": "markdown",
   "metadata": {},
   "source": [
    "Импортируем библиотеки"
   ]
  },
  {
   "cell_type": "code",
   "execution_count": 230,
   "metadata": {},
   "outputs": [],
   "source": [
    "import numpy as np\n",
    "import networkx as nx\n",
    "import random\n",
    "\n",
    "np.random.seed(123)\n",
    "import matplotlib.pyplot as plt\n",
    "from fractions import Fraction\n",
    "import seaborn as sns\n",
    "\n",
    "from hmmlearn import hmm"
   ]
  },
  {
   "cell_type": "markdown",
   "metadata": {},
   "source": [
    "Класс \"Скрытые марковские цепи\""
   ]
  },
  {
   "cell_type": "code",
   "execution_count": 231,
   "metadata": {},
   "outputs": [],
   "source": [
    "class HiddenMarkovModel:\n",
    "    \n",
    "    def __init__(self, observations_amount):\n",
    "        self.M = 2\n",
    "        self.pi = self.read_matrix('pi.txt')[0]\n",
    "#         self.pi = np.ones(self.M)/self.M\n",
    "        self.A = self.read_matrix('matrix_A.txt')\n",
    "        self.B = self.read_matrix('matrix_B.txt')\n",
    "        self.L = observations_amount\n",
    "        \n",
    "        self.log_A = self.log_matrix(self.read_matrix('matrix_A.txt'))\n",
    "        self.log_B = self.log_matrix(self.read_matrix('matrix_B.txt'))\n",
    "        self.log_pi = self.log_sequence(self.read_matrix('pi.txt')[0])\n",
    "        \n",
    "    def log_matrix(self, A):\n",
    "        for i in range(len(A)):\n",
    "            for j in range(len(A[0])):\n",
    "                A[i, j] = np.log(A[i, j])\n",
    "        return A\n",
    "    \n",
    "    def log_sequence(self, X):\n",
    "        for i in range(len(X)):\n",
    "            X[i] = np.log(X[i])\n",
    "        return X\n",
    "    \n",
    "    def log_sum(self, x, y):\n",
    "        if x == None or y == None:\n",
    "            if x == None:\n",
    "                return y\n",
    "            elif y == None:\n",
    "                return x\n",
    "        else:\n",
    "            if x > y:\n",
    "                return x + np.log(1 + np.exp(y - x))\n",
    "            elif x < y:\n",
    "                return y + np.log(1 + np.exp(x - y))\n",
    "        \n",
    "    def log_multiply(self, *args):\n",
    "        return np.sum(np.log(args))\n",
    "\n",
    "    def read_matrix(self, file_name):\n",
    "        matrix = []\n",
    "        with open(file_name, 'r') as file:\n",
    "            for line in file:\n",
    "                matrix.append([float(Fraction(x)) for x in line.split()])\n",
    "        return np.array(matrix)\n",
    "    \n",
    "    def output(self, to_out):\n",
    "        with open('output_path.txt', 'w') as file:\n",
    "            for i in to_out:\n",
    "                file.write('%i\\t'%i)\n",
    "            file.close()\n",
    "        \n",
    "    def viterbi_algorithm(self, X):\n",
    "        delta = np.zeros((self.L, self.M))\n",
    "        psi = np.zeros((self.L, self.M))\n",
    "        delta[0, 0] = 1\n",
    "\n",
    "        delta[0] = np.log(self.pi) + np.log(self.B[:, X[0] - 1])\n",
    "        for i in range(1, self.L):\n",
    "            for l in range(self.M):\n",
    "                delta[i, l] = np.max(delta[i-1] + np.log(self.A[:, l])) + np.log(self.B[l, X[i]-1])\n",
    "                psi[i, l] = np.argmax(delta[i-1] + np.log(self.A[:, l]))\n",
    "        \n",
    "        # Backtrack \n",
    "        states = np.zeros(self.L, dtype=np.int32)\n",
    "        states[self.L - 1] = np.argmax(delta[self.L - 1])\n",
    "        for t in range(self.L - 2, -1, -1):\n",
    "            states[t] = psi[t + 1, states[t + 1]]\n",
    "        return states\n",
    "    \n",
    "    def forward_algorithm(self, X):\n",
    "        alpha = np.zeros((self.L, self.M))\n",
    "\n",
    "        # Initial value step\n",
    "        for i in range(self.M):\n",
    "            alpha[0,i] = self.pi[i]*self.B[i, X[0] - 1]\n",
    "\n",
    "        # Induction Step\n",
    "        for i in range(1, self.L):\n",
    "            for l in range(self.M):\n",
    "                for k in range(self.M):\n",
    "                    alpha[i, l] += alpha[i - 1, k]*self.A[k,l]*self.B[l, X[i] - 1]\n",
    "    \n",
    "#         sequence_probability = alpha[-1].sum()\n",
    "        sequence_probability = 0\n",
    "        for k in range(self.M):\n",
    "            sequence_probability += alpha[len(alpha)-1, k] \n",
    "        print('Forward algorithm. Sequence Probability: ', sequence_probability)\n",
    "        return alpha, sequence_probability\n",
    "    \n",
    "    def backward_algorithm(self, X):\n",
    "        beta = np.zeros((self.L, self.M))\n",
    "        for i in range(self.M):\n",
    "            beta[self.L - 1,i] = 1\n",
    "            \n",
    "        # Induction Step\n",
    "        for i in range(self.L - 2, -1, -1):\n",
    "            for k in range(self.M):\n",
    "                for l in range(self.M):\n",
    "                    beta[i, k] += self.A[k,l] * self.B[l, X[i+1] - 1] * beta[i+1, l]\n",
    "        \n",
    "        sequence_probability = 0\n",
    "        for l in range(self.M):\n",
    "            sequence_probability += self.pi[l] * self.B[l, X[0] - 1] * beta[0, l]\n",
    "        print('Backward algorithm. Sequence Probability: ', sequence_probability)\n",
    "        return beta, sequence_probability\n",
    "    \n",
    "    def posterior_decoding(self, alpha, beta, sequence_probability):\n",
    "        post = []\n",
    "        for i in range(self.L):\n",
    "            post.append(alpha[i, 0] * beta[i, 0] / sequence_probability)\n",
    "        return post\n",
    "    \n",
    "    def log_forward_algorithm(self, X):\n",
    "        alpha = np.zeros((self.L, self.M))\n",
    "        \n",
    "        # Initial value step\n",
    "        for i in range(self.M):\n",
    "            alpha[0, i] = self.log_pi[i] + self.log_B[i, X[0] - 1]\n",
    "\n",
    "        # Induction Step\n",
    "        for i in range(1, self.L):\n",
    "            for l in range(self.M):\n",
    "                curr = None\n",
    "                for k in range(self.M):\n",
    "                    curr = self.log_sum(curr, alpha[i - 1, k] + self.log_A[k,l])\n",
    "                alpha[i, l] = self.log_B[l, X[i] - 1] + curr\n",
    "\n",
    "#         sequence_probability = alpha[-1].sum()\n",
    "        sequence_probability = None\n",
    "        for k in range(self.M):\n",
    "            sequence_probability = self.log_sum(sequence_probability, alpha[len(alpha)-1, k])\n",
    "        print('Forward algorithm. Log Sequence Probability: ', sequence_probability)\n",
    "        return alpha, sequence_probability\n",
    "    \n",
    "    def log_backward_algorithm(self, X):\n",
    "        beta = np.zeros((self.L, self.M))\n",
    "        \n",
    "        for i in range(self.M):\n",
    "            beta[self.L - 1,i] = np.log(1)\n",
    "            \n",
    "        # Induction Step\n",
    "        for i in range(self.L - 2, -1, -1):\n",
    "            for k in range(self.M):\n",
    "                curr_b = None\n",
    "                for l in range(self.M):\n",
    "                    curr = self.log_B[l, X[i+1] - 1] + beta[i+1, l] + self.log_A[k,l]\n",
    "                   \n",
    "                    curr_b = self.log_sum(curr_b, curr)\n",
    "                beta[i, k] = curr_b\n",
    "#                     beta[i, k] += self.A[k,l] * self.B[l, X[i+1] - 1] * beta[i+1, l]\n",
    "        \n",
    "        sequence_probability = None\n",
    "        for l in range(self.M):\n",
    "            curr = self.log_B[l, X[0] - 1] + beta[0, l] + self.log_pi[l]\n",
    "            sequence_probability = self.log_sum(sequence_probability, curr)\n",
    "        print('Backward algorithm. Log Sequence Probability: ', sequence_probability)\n",
    "        return beta, sequence_probability\n",
    "            \n",
    "    def next_state(self, weights):\n",
    "        choice = random.random() * sum(weights)\n",
    "        for i, w in enumerate(weights):\n",
    "            choice -= w\n",
    "            if choice < 0:\n",
    "                return i\n",
    "        \n",
    "    def create_hidden_sequence(self):\n",
    "        out = [None] * self.L\n",
    "        out[0] = self.next_state(self.pi)\n",
    "        for i in range(1, self.L):\n",
    "            out[i] = self.next_state(self.A[out[i - 1]])\n",
    "        return out\n",
    "\n",
    "    def create_observation_sequence(self, hidden_sequence):\n",
    "        length = len(hidden_sequence)\n",
    "        out = [None]*length\n",
    "        for i in range(length):\n",
    "            out[i] = self.next_state(self.B[hidden_sequence[i]])\n",
    "        return out"
   ]
  },
  {
   "cell_type": "markdown",
   "metadata": {},
   "source": [
    "Сгенерируем последовательность из 500 наблюдений.\n",
    "- алгоритм Витерби: в логарифмическом пространстве\n",
    "- алгоритмы прямого и обратного хода – в обычном пространстве"
   ]
  },
  {
   "cell_type": "code",
   "execution_count": 279,
   "metadata": {},
   "outputs": [
    {
     "name": "stdout",
     "output_type": "stream",
     "text": [
      "Forward algorithm. Sequence Probability:  5.161819052607157e-281\n",
      "Backward algorithm. Sequence Probability:  5.161819052607228e-281\n"
     ]
    }
   ],
   "source": [
    "n = 500\n",
    "work = HiddenMarkovModel(n)\n",
    "\n",
    "hidden=np.array(work.create_hidden_sequence())\n",
    "observed=np.array(work.create_observation_sequence(hidden))\n",
    "\n",
    "states = work.viterbi_algorithm(hidden)\n",
    "alpha, forward_seq_prob = work.forward_algorithm(hidden)\n",
    "beta, backward_seq_prob = work.backward_algorithm(hidden)\n",
    "post = work.posterior_decoding(alpha, beta, forward_seq_prob)"
   ]
  },
  {
   "cell_type": "markdown",
   "metadata": {},
   "source": [
    "Рассмотрим алгоритмы прямого и обратного хода в логарифмическом пространстве"
   ]
  },
  {
   "cell_type": "code",
   "execution_count": 280,
   "metadata": {},
   "outputs": [
    {
     "name": "stdout",
     "output_type": "stream",
     "text": [
      "Forward algorithm. Log Sequence Probability:  -645.3851220843768\n",
      "Backward algorithm. Log Sequence Probability:  -645.3851220843761\n"
     ]
    }
   ],
   "source": [
    "log_alpha, log_forward_seq_prob = work.log_forward_algorithm(hidden)\n",
    "log_beta, log_backward_seq_prob = work.log_backward_algorithm(hidden)"
   ]
  },
  {
   "cell_type": "code",
   "execution_count": 281,
   "metadata": {},
   "outputs": [
    {
     "data": {
      "text/plain": [
       "<matplotlib.axes._subplots.AxesSubplot at 0x11bdbaf60>"
      ]
     },
     "execution_count": 281,
     "metadata": {},
     "output_type": "execute_result"
    },
    {
     "data": {
      "image/png": "[encoded data removed]",
      "text/plain": [
       "<Figure size 432x288 with 1 Axes>"
      ]
     },
     "metadata": {
      "needs_background": "light"
     },
     "output_type": "display_data"
    }
   ],
   "source": [
    "fig, ax = plt.subplots()\n",
    "sns.lineplot(np.arange(0, n), post, ax=ax)\n",
    "# sns.lineplot(np.arange(0, 500), states, ax=ax)"
   ]
  },
  {
   "cell_type": "markdown",
   "metadata": {},
   "source": [
    "Рассмотрим последовательность, предложенную в книге"
   ]
  },
  {
   "cell_type": "code",
   "execution_count": 251,
   "metadata": {},
   "outputs": [
    {
     "name": "stdout",
     "output_type": "stream",
     "text": [
      "Длина последовательности 300\n"
     ]
    }
   ],
   "source": [
    "lines = ['315116246446644245311321631164',\n",
    "        'FFFFFFFFFFFFFFFFFFFFFFFFFFFFFF',\n",
    "        '152133625144543631656626566666',\n",
    "        'FFFFFFFFFFFFFFFLLLLLLLLLLLLLLL',\n",
    "        '651166453132651245636664631636',\n",
    "        'LLLLLLFFFFFFFFFFFFLLLLLLLLLLLL',\n",
    "        '663162326455236266666625151631',\n",
    "        'LLLLFFFLLLLLLLLLLLLLLFFFFFFFFF',\n",
    "        '222555441666566563564324364131',\n",
    "        'FFFFFFFFLLLLLLLLLLLLLFFFFFFFFF',\n",
    "        '513465146353411126414626253356',\n",
    "        'FFFFFFFFFFFFFFFFFFFFFFFFFFFFLL',\n",
    "        '366163666466232534413661661163',\n",
    "        'LLLLLLLLFFFFFFFFFFFFFFFFFFFFFF',\n",
    "        '252562462255265252266435353336',\n",
    "        'FFFFFFFFFFFFFFFFFFFFFFFFFFFFFF',\n",
    "        '233121625364414432335163243633',\n",
    "        'FFFFFFFFFFFFFFFFFFFFFFFFFFFLLL',\n",
    "        '665562466662632666612355245242',\n",
    "        'LLLLLLLLLLLLLLLLLLLFFFFFFFFFFF']\n",
    "observation_lines = [line for i, line in enumerate(lines) if i%2 == 0]\n",
    "observations = [int(x) for x in ''.join(observation_lines)]\n",
    "estimate_lines = [line for i, line in enumerate(lines) if i%2 == 1]\n",
    "estimates = [0 if x == 'F' else 1 for x in ''.join(estimate_lines)]\n",
    "\n",
    "print('Длина последовательности %i'%len(observations))"
   ]
  },
  {
   "cell_type": "markdown",
   "metadata": {},
   "source": [
    "Воспользуемся заявленными алгоритмами."
   ]
  },
  {
   "cell_type": "markdown",
   "metadata": {},
   "source": [
    "Сгенерируем последовательность из 500 наблюдений.\n",
    "- алгоритм Витерби: в логарифмическом пространстве\n",
    "- алгоритмы прямого и обратного хода – в обычном пространстве"
   ]
  },
  {
   "cell_type": "code",
   "execution_count": 301,
   "metadata": {},
   "outputs": [
    {
     "name": "stdout",
     "output_type": "stream",
     "text": [
      "Forward algorithm. Sequence Probability:  3.826668803701082e-225\n",
      "Backward algorithm. Sequence Probability:  3.826668803701123e-225\n"
     ]
    }
   ],
   "source": [
    "work = HiddenMarkovModel(len(observations))\n",
    "states = work.viterbi_algorithm(observations)\n",
    "alpha, forward_seq_prob = work.forward_algorithm(observations)\n",
    "beta, backward_seq_prob = work.backward_algorithm(observations)\n",
    "post = work.posterior_decoding(alpha, beta, forward_seq_prob)"
   ]
  },
  {
   "cell_type": "markdown",
   "metadata": {},
   "source": [
    "Рассмотрим алгоритмы прямого и обратного хода в логарифмическом пространстве"
   ]
  },
  {
   "cell_type": "code",
   "execution_count": 302,
   "metadata": {},
   "outputs": [
    {
     "name": "stdout",
     "output_type": "stream",
     "text": [
      "Forward algorithm. Log Sequence Probability:  -516.7396512629792\n",
      "Backward algorithm. Log Sequence Probability:  -516.7396512629791\n"
     ]
    }
   ],
   "source": [
    "log_alpha, log_forward_seq_prob = work.log_forward_algorithm(observations)\n",
    "log_beta, log_backward_seq_prob = work.log_backward_algorithm(observations)"
   ]
  },
  {
   "cell_type": "markdown",
   "metadata": {},
   "source": [
    "Рассмотрим полученный результат:\n",
    "- наблюдения\n",
    "- ожидаемые состояния цепи\n",
    "- полученные состояния цепи"
   ]
  },
  {
   "cell_type": "code",
   "execution_count": 303,
   "metadata": {},
   "outputs": [
    {
     "name": "stdout",
     "output_type": "stream",
     "text": [
      "[3, 1, 5, 1, 1, 6, 2, 4, 6, 4, 4, 6, 6, 4, 4, 2, 4, 5, 3, 1, 1, 3, 2, 1, 6, 3, 1, 1, 6, 4, 1, 5, 2, 1, 3, 3, 6, 2, 5, 1, 4, 4, 5, 4, 3, 6, 3, 1, 6, 5, 6, 6, 2, 6, 5, 6, 6, 6, 6, 6, 6, 5, 1, 1, 6, 6, 4, 5, 3, 1]\n",
      "[0, 0, 0, 0, 0, 0, 0, 0, 0, 0, 0, 0, 0, 0, 0, 0, 0, 0, 0, 0, 0, 0, 0, 0, 0, 0, 0, 0, 0, 0, 0, 0, 0, 0, 0, 0, 0, 0, 0, 0, 0, 0, 0, 0, 0, 1, 1, 1, 1, 1, 1, 1, 1, 1, 1, 1, 1, 1, 1, 1, 1, 1, 1, 1, 1, 1, 0, 0, 0, 0]\n",
      "[0, 0, 0, 0, 0, 0, 0, 0, 0, 0, 0, 0, 0, 0, 0, 0, 0, 0, 0, 0, 0, 0, 0, 0, 0, 0, 0, 0, 0, 0, 0, 0, 0, 0, 0, 0, 0, 0, 0, 0, 0, 0, 0, 0, 0, 0, 0, 0, 1, 1, 1, 1, 1, 1, 1, 1, 1, 1, 1, 1, 1, 1, 1, 1, 1, 1, 0, 0, 0, 0]\n"
     ]
    }
   ],
   "source": [
    "print(observations[:70])\n",
    "print(estimates[:70])\n",
    "print(list(states[:70]))"
   ]
  },
  {
   "cell_type": "markdown",
   "metadata": {},
   "source": [
    "Запишем получившуюся последовательность состояний states в файл."
   ]
  },
  {
   "cell_type": "code",
   "execution_count": 304,
   "metadata": {},
   "outputs": [],
   "source": [
    "work.output(states)"
   ]
  },
  {
   "cell_type": "markdown",
   "metadata": {},
   "source": [
    "Сверим ожидаемые состояния и полученные состояния:"
   ]
  },
  {
   "cell_type": "code",
   "execution_count": 305,
   "metadata": {},
   "outputs": [
    {
     "name": "stdout",
     "output_type": "stream",
     "text": [
      "The length of observations:  300\n",
      "Correct:  272\n"
     ]
    }
   ],
   "source": [
    "correct =  0\n",
    "for i in range(len(estimates)):\n",
    "    if estimates[i] == states[i]:\n",
    "        correct += 1\n",
    "\n",
    "print('The length of observations: ', len(observations))\n",
    "print('Correct: ', correct)"
   ]
  },
  {
   "cell_type": "markdown",
   "metadata": {},
   "source": [
    "Вывод: результат довольно близок к истине."
   ]
  },
  {
   "cell_type": "markdown",
   "metadata": {},
   "source": [
    "Построим график апостериорной вероятности. Оранжевым выделены области, где был использован подкрученный кубик, согласно полученной последовательности состояний."
   ]
  },
  {
   "cell_type": "code",
   "execution_count": 309,
   "metadata": {},
   "outputs": [
    {
     "data": {
      "text/plain": [
       "<matplotlib.axes._subplots.AxesSubplot at 0x11cc9d7f0>"
      ]
     },
     "execution_count": 309,
     "metadata": {},
     "output_type": "execute_result"
    },
    {
     "data": {
      "image/png": "[encoded data removed]",
      "text/plain": [
       "<Figure size 432x288 with 1 Axes>"
      ]
     },
     "metadata": {
      "needs_background": "light"
     },
     "output_type": "display_data"
    }
   ],
   "source": [
    "fig, ax = plt.subplots()\n",
    "sns.lineplot(np.arange(0, len(observations)), post, ax=ax)\n",
    "sns.lineplot(np.arange(0, len(observations)), states, ax=ax)\n"
   ]
  }
 ],
 "metadata": {
  "kernelspec": {
   "display_name": "Python 3",
   "language": "python",
   "name": "python3"
  },
  "language_info": {
   "codemirror_mode": {
    "name": "ipython",
    "version": 3
   },
   "file_extension": ".py",
   "mimetype": "text/x-python",
   "name": "python",
   "nbconvert_exporter": "python",
   "pygments_lexer": "ipython3",
   "version": "3.7.0"
  }
 },
 "nbformat": 4,
 "nbformat_minor": 2
}
