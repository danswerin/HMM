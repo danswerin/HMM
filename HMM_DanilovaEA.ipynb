{
 "cells": [
  {
   "cell_type": "markdown",
   "metadata": {},
   "source": [
    "Импортируем библиотеки"
   ]
  },
  {
   "cell_type": "code",
   "execution_count": 704,
   "metadata": {},
   "outputs": [],
   "source": [
    "import numpy as np\n",
    "import networkx as nx\n",
    "import random\n",
    "\n",
    "np.random.seed(123)\n",
    "import matplotlib.pyplot as plt\n",
    "from fractions import Fraction\n",
    "import seaborn as sns"
   ]
  },
  {
   "cell_type": "markdown",
   "metadata": {},
   "source": [
    "Класс \"Скрытые марковские цепи\""
   ]
  },
  {
   "cell_type": "code",
   "execution_count": 754,
   "metadata": {},
   "outputs": [],
   "source": [
    "class HiddenMarkovModel:\n",
    "    \n",
    "    def __init__(self, observations_amount):\n",
    "        self.M = 2\n",
    "        self.pi = self.read_matrix('pi.txt')[0]\n",
    "#         self.pi = np.ones(self.M)/self.M\n",
    "        self.A = self.read_matrix('matrix_A.txt')\n",
    "        self.B = self.read_matrix('matrix_B.txt')\n",
    "        self.L = observations_amount\n",
    "    \n",
    "    def read_matrix(self, file_name):\n",
    "        matrix = []\n",
    "        with open(file_name, 'r') as file:\n",
    "            for line in file:\n",
    "                matrix.append([float(Fraction(x)) for x in line.split()])\n",
    "        return np.array(matrix)\n",
    "    \n",
    "    def output(self, to_out):\n",
    "        with open('output_path.txt', 'w') as file:\n",
    "            for i in to_out:\n",
    "                file.write('%i\\t'%i)\n",
    "            file.close()\n",
    "        \n",
    "    def viterbi_algorithm(self, X):\n",
    "        delta = np.zeros((self.L, self.M))\n",
    "        psi = np.zeros((self.L, self.M))\n",
    "        delta[0, 0] = 1\n",
    "\n",
    "        delta[0] = np.log(self.pi) + np.log(self.B[:, X[0] - 1])\n",
    "        for i in range(1, self.L):\n",
    "            for l in range(self.M):\n",
    "                delta[i, l] = np.max(delta[i-1] + np.log(self.A[:, l])) + np.log(self.B[l, X[i]-1])\n",
    "                psi[i, l] = np.argmax(delta[i-1] + np.log(self.A[:, l]))\n",
    "        \n",
    "        # Backtrack \n",
    "        states = np.zeros(self.L, dtype=np.int32)\n",
    "        states[self.L - 1] = np.argmax(delta[self.L - 1])\n",
    "        for t in range(self.L - 2, -1, -1):\n",
    "            states[t] = psi[t + 1, states[t + 1]]\n",
    "        return states\n",
    "    \n",
    "    def forward_algorithm(self, X):\n",
    "        alpha = np.zeros((self.L, self.M))\n",
    "\n",
    "        # Initial value step\n",
    "        for i in range(self.M):\n",
    "            alpha[0,i] = self.pi[i]*self.B[i, X[0] - 1]\n",
    "        alpha[0,0] = 1\n",
    "\n",
    "        # Induction Step\n",
    "        for i in range(1, self.L):\n",
    "#             alpha[i] = alpha[i - 1].dot(self.A) * self.B[:, X[i] - 1]\n",
    "            for l in range(self.M):\n",
    "                for k in range(self.M):\n",
    "                    alpha[i, l] += alpha[i - 1, k]*self.A[k,l]*self.B[l, X[i] - 1]\n",
    "    \n",
    "#         sequence_probability = alpha[-1].sum()\n",
    "        sequence_probability = 0\n",
    "        for k in range(self.M):\n",
    "            sequence_probability += alpha[len(alpha)-1, k] * self.A[k, 0]\n",
    "        print('Forward algorithm. Sequence Probability: ', sequence_probability)\n",
    "        return alpha, sequence_probability\n",
    "    \n",
    "    def backward_algorithm(self, X):\n",
    "        beta = np.zeros((self.L, self.M))\n",
    "        for i in range(self.M):\n",
    "            beta[self.L - 1,i] = self.A[i, 0]\n",
    "            \n",
    "        # Induction Step\n",
    "        for i in range(self.L - 2, 0, -1):\n",
    "#             beta[i] = self.A.dot(self.B[:, X[i + 1] - 1] * beta[i + 1])\n",
    "            for k in range(self.M):\n",
    "                for l in range(self.M):\n",
    "                    beta[i, k] += self.A[k,l] * self.B[l, X[i+1] - 1] * beta[i+1, l]\n",
    "        \n",
    "        sequence_probability = 0\n",
    "        for l in range(self.M):\n",
    "            sequence_probability += self.A[0, l] * self.B[l, X[1] - 1] * beta[1, l]\n",
    "        print('Backward algorithm. Sequence Probability: ', sequence_probability)\n",
    "        return beta, seq_prob\n",
    "    \n",
    "    def posterior_decoding(self, alpha, beta, sequence_probability):\n",
    "        post = []\n",
    "        for i in range(self.L):\n",
    "            post.append(alpha[i, 0] * beta[i, 0] / sequence_probability)\n",
    "        return post\n",
    "            \n",
    "    def next_state(self, weights):\n",
    "        choice = random.random() * sum(weights)\n",
    "        for i, w in enumerate(weights):\n",
    "            choice -= w\n",
    "            if choice < 0:\n",
    "                return i\n",
    "        \n",
    "    def create_hidden_sequence(self):\n",
    "        out = [None] * self.L\n",
    "        out[0] = self.next_state(self.pi)\n",
    "        for i in range(1, self.L):\n",
    "            out[i] = self.next_state(self.A[out[i - 1]])\n",
    "        return out\n",
    "\n",
    "    def create_observation_sequence(self, hidden_sequence):\n",
    "        length = len(hidden_sequence)\n",
    "        out = [None]*length\n",
    "        for i in range(length):\n",
    "            out[i] = self.next_state(self.B[hidden_sequence[i]])\n",
    "        return out"
   ]
  },
  {
   "cell_type": "markdown",
   "metadata": {},
   "source": [
    "Сгенерируем последовательность из 500 наблюдений."
   ]
  },
  {
   "cell_type": "code",
   "execution_count": 717,
   "metadata": {},
   "outputs": [
    {
     "name": "stdout",
     "output_type": "stream",
     "text": [
      "Forward algorithm. Sequence Probability:  1.1517142357511954e-277\n",
      "Backward algorithm. Sequence Probability:  1.1364450358983815e-277\n"
     ]
    }
   ],
   "source": [
    "work = HiddenMarkovModel(500)\n",
    "\n",
    "hidden=np.array(work.create_hidden_sequence())\n",
    "observed=np.array(work.create_observation_sequence(hidden))\n",
    "\n",
    "states = work.viterbi_algorithm(hidden)\n",
    "alpha, forward_seq_prob = work.forward_algorithm(hidden)\n",
    "beta, backward_seq_prob = work.backward_algorithm(hidden)\n",
    "post = work.posterior_decoding(alpha, beta, seq_prob)"
   ]
  },
  {
   "cell_type": "code",
   "execution_count": 718,
   "metadata": {},
   "outputs": [
    {
     "data": {
      "text/plain": [
       "<matplotlib.axes._subplots.AxesSubplot at 0x11743ef28>"
      ]
     },
     "execution_count": 718,
     "metadata": {},
     "output_type": "execute_result"
    },
    {
     "data": {
      "image/png": "[encoded data removed]",
      "text/plain": [
       "<Figure size 432x288 with 1 Axes>"
      ]
     },
     "metadata": {},
     "output_type": "display_data"
    }
   ],
   "source": [
    "fig, ax = plt.subplots()\n",
    "sns.lineplot(np.arange(0, 500), post, ax=ax)\n",
    "# sns.lineplot(np.arange(0, 500), states, ax=ax)"
   ]
  },
  {
   "cell_type": "markdown",
   "metadata": {},
   "source": [
    "Рассмотрим последовательность, предложенную в книге"
   ]
  },
  {
   "cell_type": "code",
   "execution_count": 730,
   "metadata": {},
   "outputs": [
    {
     "name": "stdout",
     "output_type": "stream",
     "text": [
      "Длина последовательности 300\n"
     ]
    }
   ],
   "source": [
    "lines = ['315116246446644245311321631164',\n",
    "        'FFFFFFFFFFFFFFFFFFFFFFFFFFFFFF',\n",
    "        '152133625144543631656626566666',\n",
    "        'FFFFFFFFFFFFFFFLLLLLLLLLLLLLLL',\n",
    "        '651166453132651245636664631636',\n",
    "        'LLLLLLFFFFFFFFFFFFLLLLLLLLLLLL',\n",
    "        '663162326455236266666625151631',\n",
    "        'LLLLFFFLLLLLLLLLLLLLLFFFFFFFFF',\n",
    "        '222555441666566563564324364131',\n",
    "        'FFFFFFFFLLLLLLLLLLLLLFFFFFFFFF',\n",
    "        '513465146353411126414626253356',\n",
    "        'FFFFFFFFFFFFFFFFFFFFFFFFFFFFLL',\n",
    "        '366163666466232534413661661163',\n",
    "        'LLLLLLLLFFFFFFFFFFFFFFFFFFFFFF',\n",
    "        '252562462255265252266435353336',\n",
    "        'FFFFFFFFFFFFFFFFFFFFFFFFFFFFFF',\n",
    "        '233121625364414432335163243633',\n",
    "        'FFFFFFFFFFFFFFFFFFFFFFFFFFFLLL',\n",
    "        '665562466662632666612355245242',\n",
    "        'LLLLLLLLLLLLLLLLLLLFFFFFFFFFFF']\n",
    "observation_lines = [line for i, line in enumerate(lines) if i%2 == 0]\n",
    "observations = [int(x) for x in ''.join(observation_lines)]\n",
    "estimate_lines = [line for i, line in enumerate(lines) if i%2 == 1]\n",
    "estimates = [0 if x == 'F' else 1 for x in ''.join(estimate_lines)]\n",
    "\n",
    "print('Длина последовательности %i'%len(observations))"
   ]
  },
  {
   "cell_type": "markdown",
   "metadata": {},
   "source": [
    "Воспользуемся заявленными алгоритмами."
   ]
  },
  {
   "cell_type": "code",
   "execution_count": 755,
   "metadata": {},
   "outputs": [
    {
     "name": "stdout",
     "output_type": "stream",
     "text": [
      "Forward algorithm. Sequence Probability:  2.7770538408188514e-224\n",
      "Backward algorithm. Sequence Probability:  2.741412683586169e-224\n"
     ]
    }
   ],
   "source": [
    "work = HiddenMarkovModel(len(observations))\n",
    "states = work.viterbi_algorithm(observations)\n",
    "alpha, forward_seq_prob = work.forward_algorithm(observations)\n",
    "beta, backward_seq_prob = work.backward_algorithm(observations)\n",
    "post = work.posterior_decoding(alpha, beta, forward_seq_prob)"
   ]
  },
  {
   "cell_type": "markdown",
   "metadata": {},
   "source": [
    "Рассмотрим полученный результат:\n",
    "- наблюдения\n",
    "- ожидаемые состояния цепи\n",
    "- полученные состояния цепи"
   ]
  },
  {
   "cell_type": "code",
   "execution_count": 756,
   "metadata": {},
   "outputs": [
    {
     "name": "stdout",
     "output_type": "stream",
     "text": [
      "[3, 1, 5, 1, 1, 6, 2, 4, 6, 4, 4, 6, 6, 4, 4, 2, 4, 5, 3, 1, 1, 3, 2, 1, 6, 3, 1, 1, 6, 4, 1, 5, 2, 1, 3, 3, 6, 2, 5, 1, 4, 4, 5, 4, 3, 6, 3, 1, 6, 5, 6, 6, 2, 6, 5, 6, 6, 6, 6, 6, 6, 5, 1, 1, 6, 6, 4, 5, 3, 1]\n",
      "[0, 0, 0, 0, 0, 0, 0, 0, 0, 0, 0, 0, 0, 0, 0, 0, 0, 0, 0, 0, 0, 0, 0, 0, 0, 0, 0, 0, 0, 0, 0, 0, 0, 0, 0, 0, 0, 0, 0, 0, 0, 0, 0, 0, 0, 1, 1, 1, 1, 1, 1, 1, 1, 1, 1, 1, 1, 1, 1, 1, 1, 1, 1, 1, 1, 1, 0, 0, 0, 0]\n",
      "[0, 0, 0, 0, 0, 0, 0, 0, 0, 0, 0, 0, 0, 0, 0, 0, 0, 0, 0, 0, 0, 0, 0, 0, 0, 0, 0, 0, 0, 0, 0, 0, 0, 0, 0, 0, 0, 0, 0, 0, 0, 0, 0, 0, 0, 0, 0, 0, 1, 1, 1, 1, 1, 1, 1, 1, 1, 1, 1, 1, 1, 1, 1, 1, 1, 1, 0, 0, 0, 0]\n"
     ]
    }
   ],
   "source": [
    "print(observations[:70])\n",
    "print(estimates[:70])\n",
    "print(list(states[:70]))"
   ]
  },
  {
   "cell_type": "markdown",
   "metadata": {},
   "source": [
    "Запишем получившуюся последовательность состояний states в файл."
   ]
  },
  {
   "cell_type": "code",
   "execution_count": 757,
   "metadata": {},
   "outputs": [],
   "source": [
    "work.output(states)"
   ]
  },
  {
   "cell_type": "markdown",
   "metadata": {},
   "source": [
    "Сверим ожидаемые состояния и полученные состояния:"
   ]
  },
  {
   "cell_type": "code",
   "execution_count": 722,
   "metadata": {},
   "outputs": [
    {
     "name": "stdout",
     "output_type": "stream",
     "text": [
      "The length of observations:  300\n",
      "Correct:  272\n"
     ]
    }
   ],
   "source": [
    "correct =  0\n",
    "for i in range(len(estimates)):\n",
    "    if estimates[i] == states[i]:\n",
    "        correct += 1\n",
    "\n",
    "print('The length of observations: ', len(observations))\n",
    "print('Correct: ', correct)"
   ]
  },
  {
   "cell_type": "markdown",
   "metadata": {},
   "source": [
    "Вывод: результат довольно близок к истине."
   ]
  },
  {
   "cell_type": "markdown",
   "metadata": {},
   "source": [
    "Построим график апостериорной вероятности. Оранжевым выделены области, где был использован подкрученный кубик, согласно полученной последовательности состояний."
   ]
  },
  {
   "cell_type": "code",
   "execution_count": 723,
   "metadata": {},
   "outputs": [
    {
     "data": {
      "text/plain": [
       "<matplotlib.axes._subplots.AxesSubplot at 0x1174fc240>"
      ]
     },
     "execution_count": 723,
     "metadata": {},
     "output_type": "execute_result"
    },
    {
     "data": {
      "image/png": "[encoded data removed]",
      "text/plain": [
       "<Figure size 432x288 with 1 Axes>"
      ]
     },
     "metadata": {},
     "output_type": "display_data"
    }
   ],
   "source": [
    "fig, ax = plt.subplots()\n",
    "sns.lineplot(np.arange(0, len(observations)), post, ax=ax)\n",
    "sns.lineplot(np.arange(0, len(observations)), states, ax=ax)\n"
   ]
  },
  {
   "cell_type": "code",
   "execution_count": null,
   "metadata": {},
   "outputs": [],
   "source": []
  }
 ],
 "metadata": {
  "kernelspec": {
   "display_name": "Python 3",
   "language": "python",
   "name": "python3"
  },
  "language_info": {
   "codemirror_mode": {
    "name": "ipython",
    "version": 3
   },
   "file_extension": ".py",
   "mimetype": "text/x-python",
   "name": "python",
   "nbconvert_exporter": "python",
   "pygments_lexer": "ipython3",
   "version": "3.7.0"
  }
 },
 "nbformat": 4,
 "nbformat_minor": 2
}
